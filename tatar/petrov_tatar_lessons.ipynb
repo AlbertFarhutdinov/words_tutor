{
 "cells": [
  {
   "cell_type": "markdown",
   "metadata": {},
   "source": [
    "# Татарский язык"
   ]
  },
  {
   "cell_type": "markdown",
   "metadata": {},
   "source": [
    "#### Константы, используемые в ключах словарей:\n",
    "   - твёрдые / мягкие (hard / soft) гласные;\n",
    "   - звонкие / глухие (voiced / voiceless) согласные;\n",
    "   - носовые / неносовые (nasal / non_nasal) согласные;\n",
    "   - единственное / множественное (singular / plural) число;\n",
    "   - настоящее / прошедшее (present / past) время;\n",
    "   - гласный / согласный (vowel / consonant) звук;\n",
    "   - утвердительное / отрицательное / вопросительное (affirmative / negative / question) предложение;"
   ]
  },
  {
   "cell_type": "code",
   "execution_count": 1,
   "metadata": {},
   "outputs": [],
   "source": [
    "HARD = 'hard'\n",
    "SOFT = 'soft'\n",
    "VOICED = 'voiced'\n",
    "VOICELESS = 'voiceless'\n",
    "NASAL = 'nasal'\n",
    "NON_NASAL = 'non_nasal'\n",
    "SINGULAR = 'singular'\n",
    "PLURAL = 'plural'\n",
    "PRESENT = 'present'\n",
    "PAST = 'past'\n",
    "VOWEL = 'vowel'\n",
    "CONSONANT = 'consonant'\n",
    "AFFIRMATIVE = 'affirmative'\n",
    "NEGATIVE = 'negative'\n",
    "QUESTION = 'question'"
   ]
  },
  {
   "cell_type": "markdown",
   "metadata": {},
   "source": [
    "#### Буквы татарского алфавита:\n",
    "   - UPPER и LOWER соответствует татарским заглавным и строчным буквам:\n",
    "     - a = ә;\n",
    "     - g = җ;\n",
    "     - n = ң;\n",
    "     - o = ө;\n",
    "     - u = ү;\n",
    "     - h = һ;"
   ]
  },
  {
   "cell_type": "code",
   "execution_count": 2,
   "metadata": {},
   "outputs": [],
   "source": [
    "A_UPPER =  chr(1240)\n",
    "A_LOWER = chr(1241)\n",
    "G_UPPER = chr(1174)\n",
    "G_LOWER = chr(1175)\n",
    "N_UPPER = chr(1186)\n",
    "N_LOWER = chr(1187)\n",
    "O_UPPER = chr(1256)\n",
    "O_LOWER = chr(1257)\n",
    "U_UPPER = chr(1198)\n",
    "U_LOWER = chr(1199)\n",
    "H_UPPER = chr(1210)\n",
    "H_LOWER = chr(1211)"
   ]
  },
  {
   "cell_type": "markdown",
   "metadata": {},
   "source": [
    "#### Носовые согласные"
   ]
  },
  {
   "cell_type": "code",
   "execution_count": 3,
   "metadata": {},
   "outputs": [],
   "source": [
    "NASAL_CONSONANTS = {'м', 'н'}"
   ]
  },
  {
   "cell_type": "markdown",
   "metadata": {},
   "source": [
    "## УРОК 1"
   ]
  },
  {
   "cell_type": "markdown",
   "metadata": {},
   "source": [
    "### Лексика"
   ]
  },
  {
   "cell_type": "markdown",
   "metadata": {},
   "source": [
    "#### PRONOUNS_NOMINATIVE - местоимения в именительном падеже. Ключ словаря: кортеж (лицо, число);"
   ]
  },
  {
   "cell_type": "code",
   "execution_count": 4,
   "metadata": {},
   "outputs": [],
   "source": [
    "PRONOUNS_NOMINATIVE = {\n",
    "    (1, SINGULAR): 'мин',\n",
    "    (2, SINGULAR): 'cин',\n",
    "    (3, SINGULAR): 'ул',\n",
    "    (1, PLURAL): 'без',\n",
    "    (2, PLURAL): 'сез',\n",
    "    (3, PLURAL): 'алар',\n",
    "}"
   ]
  },
  {
   "cell_type": "markdown",
   "metadata": {},
   "source": [
    "#### imperatives - словарь глаголов в повелительном наклонении с переводом на русский;"
   ]
  },
  {
   "cell_type": "code",
   "execution_count": 5,
   "metadata": {},
   "outputs": [],
   "source": [
    "imperatives = {\n",
    "    'яз': 'пиши',\n",
    "    'ал': 'бери',\n",
    "    'ярат': 'люби',\n",
    "    'оныт': 'забудь',\n",
    "    'сайла': 'выбирай',\n",
    "    'сакла': 'защити',\n",
    "}"
   ]
  },
  {
   "cell_type": "markdown",
   "metadata": {},
   "source": [
    "### Грамматика"
   ]
  },
  {
   "cell_type": "markdown",
   "metadata": {},
   "source": [
    "#### VERB_POSSESIVE_POSTFIXES - словарь, содержащий притяжательные окончания глаголов;"
   ]
  },
  {
   "cell_type": "code",
   "execution_count": 6,
   "metadata": {},
   "outputs": [],
   "source": [
    "VERB_POSSESIVE_POSTFIXES = {\n",
    "    HARD: {\n",
    "        (1, SINGULAR): 'м',\n",
    "        (2, SINGULAR): f'сы{N_LOWER}',\n",
    "        (3, SINGULAR): '',\n",
    "        (1, PLURAL): 'быз',\n",
    "        (2, PLURAL): 'сыз',\n",
    "        (3, PLURAL): 'лар',\n",
    "    },\n",
    "}"
   ]
  },
  {
   "cell_type": "markdown",
   "metadata": {},
   "source": [
    "#### VERB_AFFIRMATIVE_POSTFIXES - словарь, содержащий окончания глаголов в утвердительной форме настоящего времени;"
   ]
  },
  {
   "cell_type": "code",
   "execution_count": 7,
   "metadata": {},
   "outputs": [],
   "source": [
    "VERB_AFFIRMATIVE_POSTFIXES = {\n",
    "    CONSONANT: {\n",
    "        HARD: 'a',\n",
    "    },\n",
    "    VOWEL: {\n",
    "        HARD: 'ый',\n",
    "    }\n",
    "}"
   ]
  },
  {
   "cell_type": "markdown",
   "metadata": {},
   "source": [
    "### Дополнительная информация из урока 1:\n",
    "   - \"е\" в татарском более короткая, \n",
    "   - \"а\" - более глубокая, нечто среднее между \"а\" и \"о\", \n",
    "   - \"ы\" тоже короткая, звучит как пропуск;\n",
    "   - Глагол в утвердительной форме и настоящем времени: императив + утвердительное окончание + притяжательное окончание;\n",
    "   - Чтобы проспрягать глагол, оканчивающийся на гласную, нужно добавить оканчание к императиву без последней гласной на конце, т.е. сакла - саклый;"
   ]
  },
  {
   "cell_type": "markdown",
   "metadata": {},
   "source": [
    "# УРОК 2"
   ]
  },
  {
   "cell_type": "markdown",
   "metadata": {},
   "source": [
    "### Лексика"
   ]
  },
  {
   "cell_type": "code",
   "execution_count": 8,
   "metadata": {},
   "outputs": [],
   "source": [
    "imperatives.update({\n",
    "    f'эшл{A_LOWER}':'работай',\n",
    "    'кил': 'приходи',\n",
    "    'бел': 'знай',\n",
    "    f'к{O_LOWER}т': 'жди'\n",
    "})"
   ]
  },
  {
   "cell_type": "markdown",
   "metadata": {},
   "source": [
    "#### PRONOUNS_ACCUSATIVE - местоимения в винительном падеже. Ключ словаря: кортеж (лицо, число);"
   ]
  },
  {
   "cell_type": "code",
   "execution_count": 9,
   "metadata": {},
   "outputs": [],
   "source": [
    "PRONOUNS_ACCUSATIVE = {\n",
    "    (1, SINGULAR): 'мине',\n",
    "    (2, SINGULAR): 'cине',\n",
    "    (3, SINGULAR): 'аны',\n",
    "    (1, PLURAL): 'безне',\n",
    "    (2, PLURAL): 'сезне',\n",
    "    (3, PLURAL): 'аларны',\n",
    "}"
   ]
  },
  {
   "cell_type": "markdown",
   "metadata": {},
   "source": [
    "### Грамматика"
   ]
  },
  {
   "cell_type": "code",
   "execution_count": 10,
   "metadata": {},
   "outputs": [],
   "source": [
    "VERB_POSSESIVE_POSTFIXES[SOFT] = {\n",
    "    (1, SINGULAR): 'м',\n",
    "    (2, SINGULAR): f'се{N_LOWER}',\n",
    "    (3, SINGULAR): '',\n",
    "    (1, PLURAL): 'без',\n",
    "    (2, PLURAL): 'сез',\n",
    "    (3, PLURAL): f'л{A_LOWER}р',\n",
    "}"
   ]
  },
  {
   "cell_type": "code",
   "execution_count": 11,
   "metadata": {},
   "outputs": [],
   "source": [
    "VERB_AFFIRMATIVE_POSTFIXES[CONSONANT][SOFT] = A_LOWER\n",
    "VERB_AFFIRMATIVE_POSTFIXES[VOWEL][SOFT] = 'и'"
   ]
  },
  {
   "cell_type": "markdown",
   "metadata": {},
   "source": [
    "#### QUESTION_POSTFIXES - вопросительные окончания для глаголов и послелогов при отсутствии вопросительных слов (аналог частицы \"ли\" в русском языке) - добавляются после остальных окончаний"
   ]
  },
  {
   "cell_type": "code",
   "execution_count": 12,
   "metadata": {},
   "outputs": [],
   "source": [
    "QUESTION_POSTFIXES = {\n",
    "    HARD: 'мы',\n",
    "    SOFT: 'ме',\n",
    "}"
   ]
  },
  {
   "cell_type": "markdown",
   "metadata": {},
   "source": [
    "#### NEGATIVE_POSTFIXES - отрицательные окончания глаголов"
   ]
  },
  {
   "cell_type": "code",
   "execution_count": 13,
   "metadata": {},
   "outputs": [],
   "source": [
    "NEGATIVE_POSTFIXES = {\n",
    "    HARD: 'мый',\n",
    "    SOFT: 'ми',\n",
    "}"
   ]
  },
  {
   "cell_type": "markdown",
   "metadata": {},
   "source": [
    "### Дополнительная информация из урока 2:\n",
    "   - Глагол всегда ставится в конце предложения;\n",
    "   - Правильный порядок слов: субъект - объект - действие;\n",
    "   - Глагол в отрицательной форме и настоящем времени: императив + отрицательное окончание + притяжательное окончание;"
   ]
  },
  {
   "cell_type": "markdown",
   "metadata": {},
   "source": [
    "## УРОК 3"
   ]
  },
  {
   "cell_type": "markdown",
   "metadata": {},
   "source": [
    "### Лексика"
   ]
  },
  {
   "cell_type": "code",
   "execution_count": 14,
   "metadata": {},
   "outputs": [],
   "source": [
    "imperatives.update({\n",
    "    f'сат': 'продавай',\n",
    "    f'бул': 'будь',\n",
    "    'ит': 'делай',\n",
    "})"
   ]
  },
  {
   "cell_type": "markdown",
   "metadata": {},
   "source": [
    "#### adjectives - словарь с татарскими прилагательными и их переводом"
   ]
  },
  {
   "cell_type": "code",
   "execution_count": 15,
   "metadata": {},
   "outputs": [],
   "source": [
    "adjectives = {\n",
    "    'cay': 'здоровый',\n",
    "    f'б{A_LOWER}хетле': 'счастливый',\n",
    "}"
   ]
  },
  {
   "cell_type": "markdown",
   "metadata": {},
   "source": [
    "#### nouns - словарь с татарскими существительными и их переводом"
   ]
  },
  {
   "cell_type": "code",
   "execution_count": 16,
   "metadata": {},
   "outputs": [],
   "source": [
    "nouns = {\n",
    "    'гафу': 'прощение',\n",
    "    f'р{A_LOWER}хим': 'милость',\n",
    "    f'ярд{A_LOWER}м': 'помощь',\n",
    "    'белем': 'знание',\n",
    "    f'б{A_LOWER}хет': 'счастье',\n",
    "}"
   ]
  },
  {
   "cell_type": "markdown",
   "metadata": {},
   "source": [
    "### Грамматика"
   ]
  },
  {
   "cell_type": "markdown",
   "metadata": {},
   "source": [
    "#### IMPERATIVE_PLURAL_POSTFIXES - окончания множественного числа глагола в повелительном наклонении"
   ]
  },
  {
   "cell_type": "code",
   "execution_count": 17,
   "metadata": {},
   "outputs": [],
   "source": [
    "IMPERATIVE_PLURAL_POSTFIXES = {\n",
    "    CONSONANT: {\n",
    "        HARD: 'ыгыз',\n",
    "        SOFT: 'егез',\n",
    "    },\n",
    "    VOWEL: {\n",
    "        HARD: 'гыз',\n",
    "        SOFT: 'гез',\n",
    "    }\n",
    "}"
   ]
  },
  {
   "cell_type": "markdown",
   "metadata": {},
   "source": [
    "#### INFINITIVE_POSTFIXES - окончания глаголов в неопределенной форме"
   ]
  },
  {
   "cell_type": "code",
   "execution_count": 18,
   "metadata": {},
   "outputs": [],
   "source": [
    "INFINITIVE_POSTFIXES = {\n",
    "    CONSONANT: {\n",
    "        HARD: f'{IMPERATIVE_PLURAL_POSTFIXES[CONSONANT][HARD]}рга',\n",
    "        SOFT: f'{IMPERATIVE_PLURAL_POSTFIXES[CONSONANT][SOFT]}рг{A_LOWER}',\n",
    "    },\n",
    "    VOWEL: {\n",
    "        HARD: 'рга',\n",
    "        SOFT: f'рг{A_LOWER}',\n",
    "    }\n",
    "}"
   ]
  },
  {
   "cell_type": "markdown",
   "metadata": {},
   "source": [
    "### Дополнительная информация из урока 3:\n",
    "   - Спряжение глаголов проще тренировать на императивах, т.к. по инфинитивам не всегда понятно. Например: сатарга -> сатам, сакларга -> саклыйм;\n",
    "   - В татарском языке ударение вариативно;\n",
    "   "
   ]
  },
  {
   "cell_type": "markdown",
   "metadata": {},
   "source": [
    "## УРОК 4"
   ]
  },
  {
   "cell_type": "markdown",
   "metadata": {},
   "source": [
    "### Лексика"
   ]
  },
  {
   "cell_type": "code",
   "execution_count": 19,
   "metadata": {},
   "outputs": [],
   "source": [
    "adjectives.update({\n",
    "    'кадерле': 'дорогой',\n",
    "})"
   ]
  },
  {
   "cell_type": "code",
   "execution_count": 20,
   "metadata": {},
   "outputs": [],
   "source": [
    "nouns.update({\n",
    "    'дус': 'друг',\n",
    "    'кеше': 'человек',\n",
    "    'йомырка': 'яйцо',\n",
    "    'тавык': 'курица',\n",
    "    'бала': 'ребёнок',\n",
    "    'кул': 'рука',\n",
    "})"
   ]
  },
  {
   "cell_type": "code",
   "execution_count": 21,
   "metadata": {},
   "outputs": [],
   "source": [
    "imperatives.update({\n",
    "    'аша': 'ешь',\n",
    "    f'{O_LOWER}йр{A_LOWER}т': 'научи',\n",
    "    'ю': 'мой',\n",
    "})"
   ]
  },
  {
   "cell_type": "markdown",
   "metadata": {},
   "source": [
    "#### questions - вопросительные местоимения"
   ]
  },
  {
   "cell_type": "code",
   "execution_count": 22,
   "metadata": {},
   "outputs": [],
   "source": [
    "questions = {\n",
    "    'кем': 'кто',\n",
    "}"
   ]
  },
  {
   "cell_type": "markdown",
   "metadata": {},
   "source": [
    "#### other_words - слова, не попавшие в остальные группы"
   ]
  },
  {
   "cell_type": "code",
   "execution_count": 23,
   "metadata": {},
   "outputs": [],
   "source": [
    "other_words = {\n",
    "    'шул': 'тот',\n",
    "}"
   ]
  },
  {
   "cell_type": "markdown",
   "metadata": {},
   "source": [
    "### Грамматика"
   ]
  },
  {
   "cell_type": "markdown",
   "metadata": {},
   "source": [
    "#### NOUN_ACCUSATIVE_POSTFIXES - окончания существительных в винительном падеже"
   ]
  },
  {
   "cell_type": "code",
   "execution_count": 24,
   "metadata": {},
   "outputs": [],
   "source": [
    "NOUN_ACCUSATIVE_POSTFIXES = {\n",
    "    HARD: 'ны',\n",
    "    SOFT: 'не',\n",
    "}"
   ]
  },
  {
   "cell_type": "markdown",
   "metadata": {},
   "source": [
    "### Дополнительная информация из урока 4:\n",
    "   - Глагол \"ю\" (\"мой\") спрягается как твёрдые глаголы с согласной на конце: ю - юам - ... - юалар"
   ]
  },
  {
   "cell_type": "markdown",
   "metadata": {},
   "source": [
    "## УРОК 5"
   ]
  },
  {
   "cell_type": "markdown",
   "metadata": {},
   "source": [
    "### Лексика"
   ]
  },
  {
   "cell_type": "code",
   "execution_count": 25,
   "metadata": {},
   "outputs": [],
   "source": [
    "nouns.update({\n",
    "    f'х{A_LOWER}л': 'дело',\n",
    "    'китап': 'книга',\n",
    "})"
   ]
  },
  {
   "cell_type": "code",
   "execution_count": 26,
   "metadata": {},
   "outputs": [],
   "source": [
    "questions['ничек'] = 'как'"
   ]
  },
  {
   "cell_type": "markdown",
   "metadata": {},
   "source": [
    "### Грамматика"
   ]
  },
  {
   "cell_type": "markdown",
   "metadata": {},
   "source": [
    "#### NOUN_POSSESIVE_POSTFIXES - окончания принадлежности у существительных"
   ]
  },
  {
   "cell_type": "code",
   "execution_count": 27,
   "metadata": {},
   "outputs": [],
   "source": [
    "NOUN_POSSESIVE_POSTFIXES = {\n",
    "    CONSONANT: {\n",
    "        HARD: {\n",
    "            (1, SINGULAR): 'ым',\n",
    "            (2, SINGULAR): f'ы{N_LOWER}',\n",
    "            (3, SINGULAR): 'ы',\n",
    "            (1, PLURAL): 'ыбыз',\n",
    "            (2, PLURAL): 'ыгыз',\n",
    "            (3, PLURAL): 'ы',\n",
    "        },\n",
    "        SOFT: {\n",
    "            (1, SINGULAR): 'ем',\n",
    "            (2, SINGULAR): f'е{N_LOWER}',\n",
    "            (3, SINGULAR): 'е',\n",
    "            (1, PLURAL): 'ебез',\n",
    "            (2, PLURAL): 'егез',\n",
    "            (3, PLURAL): 'е',\n",
    "        },\n",
    "    },\n",
    "    VOWEL:  {\n",
    "        HARD: {\n",
    "            (1, SINGULAR): 'м',\n",
    "            (2, SINGULAR): N_LOWER,\n",
    "            (3, SINGULAR): 'cы',\n",
    "            (1, PLURAL): 'быз',\n",
    "            (2, PLURAL): 'гыз',\n",
    "            (3, PLURAL): 'cы',\n",
    "        },\n",
    "        SOFT: {\n",
    "            (1, SINGULAR): 'м',\n",
    "            (2, SINGULAR): N_LOWER,\n",
    "            (3, SINGULAR): 'cе',\n",
    "            (1, PLURAL): 'без',\n",
    "            (2, PLURAL): 'гез',\n",
    "            (3, PLURAL): 'cе',\n",
    "        },\n",
    "    },\n",
    "}"
   ]
  },
  {
   "cell_type": "markdown",
   "metadata": {},
   "source": [
    "#### NOUN_PLURAL_POSTFIXES - окончания множественного числа у существительных"
   ]
  },
  {
   "cell_type": "code",
   "execution_count": 28,
   "metadata": {},
   "outputs": [],
   "source": [
    "NOUN_PLURAL_POSTFIXES = {\n",
    "    NON_NASAL: {\n",
    "        HARD: 'лар',\n",
    "        SOFT: f'л{A_LOWER}р',\n",
    "    },\n",
    "    NASAL: {\n",
    "        HARD: 'нар',\n",
    "        SOFT: f'н{A_LOWER}р',\n",
    "    },\n",
    "}"
   ]
  },
  {
   "cell_type": "markdown",
   "metadata": {},
   "source": [
    "### Дополнительная информация из урока 5:\n",
    "   - \"ч\" читается как \"щ\";\n",
    "   - Для фонетического комфорта происходит чередование согласных на конце слова, например: китап - китабым;\n",
    "   - Твёрдое \"х\" используется в словах, пришедших из арабского, мягкое придыхательное \"h\" используется в словах, пришедших из персидского;\n",
    "   - Окончание принадлежности идёт в существительных после множественного числа;"
   ]
  },
  {
   "cell_type": "markdown",
   "metadata": {},
   "source": [
    "## УРОК 6"
   ]
  },
  {
   "cell_type": "markdown",
   "metadata": {},
   "source": [
    "### Лексика"
   ]
  },
  {
   "cell_type": "code",
   "execution_count": 29,
   "metadata": {},
   "outputs": [],
   "source": [
    "adjectives.update({\n",
    "    'яхшы': 'хороший',\n",
    "    'шат': 'радостный',\n",
    "    'бай': 'богатый',\n",
    "})"
   ]
  },
  {
   "cell_type": "code",
   "execution_count": 30,
   "metadata": {},
   "outputs": [],
   "source": [
    "nouns.update({\n",
    "    'исем': 'имя',\n",
    "    'шатлык': 'радость',\n",
    "    'байлык': 'богатство',\n",
    "    'берлек': 'единство',\n",
    "})"
   ]
  },
  {
   "cell_type": "code",
   "execution_count": 31,
   "metadata": {},
   "outputs": [],
   "source": [
    "questions['кемне'] = 'кого'"
   ]
  },
  {
   "cell_type": "markdown",
   "metadata": {},
   "source": [
    "### Дополнительная информация из урока 6:\n",
    "    - Порядок слов (кроме глагола) может варьироваться в разговорной речи, в зависимости от того, на что делается акцент;"
   ]
  },
  {
   "cell_type": "markdown",
   "metadata": {},
   "source": [
    "## УРОК 7"
   ]
  },
  {
   "cell_type": "markdown",
   "metadata": {},
   "source": [
    "### Лексика"
   ]
  },
  {
   "cell_type": "code",
   "execution_count": 32,
   "metadata": {},
   "outputs": [],
   "source": [
    "imperatives.update({\n",
    "    'бие': 'танцуй',\n",
    "    'бир': 'дай',\n",
    "    'бар': 'иди',\n",
    "})"
   ]
  },
  {
   "cell_type": "markdown",
   "metadata": {},
   "source": [
    "#### PRONOUNS_DATIVE - местоимения в дательном (направительном) падеже"
   ]
  },
  {
   "cell_type": "code",
   "execution_count": 33,
   "metadata": {},
   "outputs": [],
   "source": [
    "PRONOUNS_DATIVE = {\n",
    "    (1, SINGULAR): f'ми{N_LOWER}a',\n",
    "    (2, SINGULAR): f'cи{N_LOWER}а',\n",
    "    (3, SINGULAR): f'а{N_LOWER}а',\n",
    "    (1, PLURAL): f'безг{A_LOWER}',\n",
    "    (2, PLURAL): f'сезг{A_LOWER}',\n",
    "    (3, PLURAL): 'аларга',\n",
    "}"
   ]
  },
  {
   "cell_type": "markdown",
   "metadata": {},
   "source": [
    "### Грамматика"
   ]
  },
  {
   "cell_type": "markdown",
   "metadata": {},
   "source": [
    "#### NOUN_DIRECTION_POSTFIXES - окончания существительных, указывающих на направление"
   ]
  },
  {
   "cell_type": "code",
   "execution_count": 34,
   "metadata": {},
   "outputs": [],
   "source": [
    "NOUN_DIRECTION_POSTFIXES = {\n",
    "    VOICED: {\n",
    "        HARD: 'га',\n",
    "        SOFT: f'г{A_LOWER}',\n",
    "    },\n",
    "    VOICELESS: {\n",
    "        HARD: 'ка',\n",
    "        SOFT: f'к{A_LOWER}',\n",
    "    },\n",
    "}"
   ]
  },
  {
   "cell_type": "markdown",
   "metadata": {},
   "source": [
    "## УРОК 8"
   ]
  },
  {
   "cell_type": "markdown",
   "metadata": {},
   "source": [
    "### Лексика"
   ]
  },
  {
   "cell_type": "code",
   "execution_count": 35,
   "metadata": {},
   "outputs": [],
   "source": [
    "questions.update({\n",
    "    f'кемг{A_LOWER}': 'к кому',\n",
    "    'кая': 'куда',\n",
    "    f'н{A_LOWER}рс{A_LOWER}': 'что',\n",
    "})"
   ]
  },
  {
   "cell_type": "code",
   "execution_count": 36,
   "metadata": {},
   "outputs": [],
   "source": [
    "imperatives.update({\n",
    "    'оша': 'нравься',\n",
    "    f'тел{A_LOWER}': 'желай',\n",
    "})"
   ]
  },
  {
   "cell_type": "code",
   "execution_count": 37,
   "metadata": {},
   "outputs": [],
   "source": [
    "other_words.update({\n",
    "    f'х{A_LOWER}зер': 'сейчас',\n",
    "    f'кир{A_LOWER}к': 'надо',\n",
    "})"
   ]
  },
  {
   "cell_type": "code",
   "execution_count": 38,
   "metadata": {},
   "outputs": [],
   "source": [
    "nouns.update({\n",
    "    'су': 'вода',\n",
    "})"
   ]
  },
  {
   "cell_type": "markdown",
   "metadata": {},
   "source": [
    "### Дополнительная информация из урока 8:\n",
    "    - К слову надо тоже можно приписать вопросительное окончание как у глагола и оно ставится в конце предложения;"
   ]
  },
  {
   "cell_type": "markdown",
   "metadata": {},
   "source": [
    "## УРОК 9"
   ]
  },
  {
   "cell_type": "markdown",
   "metadata": {},
   "source": [
    "### Лексика"
   ]
  },
  {
   "cell_type": "code",
   "execution_count": 39,
   "metadata": {},
   "outputs": [],
   "source": [
    "nouns.update({\n",
    "    'вакыт': 'время',\n",
    "    'бала': 'ребёнок',\n",
    "})"
   ]
  },
  {
   "cell_type": "code",
   "execution_count": 40,
   "metadata": {},
   "outputs": [],
   "source": [
    "imperatives.update({\n",
    "    f'с{O_LOWER}йл{A_LOWER}ш': 'говори',\n",
    "    f'к{U_LOWER}р': 'увидь',\n",
    "})"
   ]
  },
  {
   "cell_type": "code",
   "execution_count": 41,
   "metadata": {},
   "outputs": [],
   "source": [
    "other_words.update({\n",
    "    'бар': 'есть',\n",
    "    'юк': 'нет',\n",
    "    'бу': 'это',\n",
    "    'монда': 'здесь',\n",
    "    f'моны{N_LOWER}': 'это (притяжательная форма)',\n",
    "    'моны': 'это (винительная форма)',\n",
    "})"
   ]
  },
  {
   "cell_type": "markdown",
   "metadata": {},
   "source": [
    "#### NUMBERS - словарь татарских числительных с переводом"
   ]
  },
  {
   "cell_type": "code",
   "execution_count": 42,
   "metadata": {},
   "outputs": [],
   "source": [
    "NUMBERS = {\n",
    "    'бер': 'один',\n",
    "    'ике': 'два',\n",
    "}"
   ]
  },
  {
   "cell_type": "markdown",
   "metadata": {},
   "source": [
    "#### POST_WORDS - послелоги, аналоги предлогов, которые ставятся после объекта, с которым они связаны. Употребляются с притяжательными местоимениями (кроме \"алар\" - \"они) или существительными в именительном падеже"
   ]
  },
  {
   "cell_type": "code",
   "execution_count": 43,
   "metadata": {},
   "outputs": [],
   "source": [
    "POST_WORDS = {\n",
    "    f'бел{A_LOWER}н': 'с',\n",
    "    'турында': 'о',\n",
    "    f'{O_LOWER}чен': 'для',\n",
    "}"
   ]
  },
  {
   "cell_type": "markdown",
   "metadata": {},
   "source": [
    "### Дополнительная информация из урока 9:\n",
    "   - \"в\" читается как английская \"w\";\n",
    "   - слова \"бар\" и \"юк\" стоят в конце предложения и могут иметь вопросительное окончание как у глагола;\n",
    "   - Фраза \"У меня есть что-то\" переводится как \"Моё что-то есть\", например: \"У меня есть время\" - \"Минем вакытым бар\";\n",
    "   - Если в предложении есть числительные, указывающие на количество предметов, то эти предметы употребляются в единственном числе, т.е. \"2 ребенка\" - \"ике бала\";"
   ]
  },
  {
   "cell_type": "markdown",
   "metadata": {},
   "source": [
    "## УРОК 10"
   ]
  },
  {
   "cell_type": "markdown",
   "metadata": {},
   "source": [
    "### Лексика"
   ]
  },
  {
   "cell_type": "code",
   "execution_count": 44,
   "metadata": {},
   "outputs": [],
   "source": [
    "adjectives.update({\n",
    "    'буш': 'свободный',\n",
    "    f'к{O_LOWER}чле': 'сильный',\n",
    "})"
   ]
  },
  {
   "cell_type": "code",
   "execution_count": 45,
   "metadata": {},
   "outputs": [],
   "source": [
    "imperatives.update({\n",
    "    'утыр': 'сядь',\n",
    "    'бул': 'будь',\n",
    "})"
   ]
  },
  {
   "cell_type": "code",
   "execution_count": 46,
   "metadata": {},
   "outputs": [],
   "source": [
    "nouns.update({\n",
    "    f'{O_LOWER}й': 'дом',\n",
    "    f'к{O_LOWER}ч': 'сила',\n",
    "    'ел': 'год',\n",
    "    'яз': 'весна',\n",
    "    'дус': 'друг',\n",
    "    'дуслык': 'дружба',\n",
    "    'саулык': 'здоровье',\n",
    "    'кеше': 'человек',\n",
    "    'кешелек': 'человечество',\n",
    "})"
   ]
  },
  {
   "cell_type": "code",
   "execution_count": 47,
   "metadata": {},
   "outputs": [],
   "source": [
    "questions.update({\n",
    "    'кайда': 'где',\n",
    "})"
   ]
  },
  {
   "cell_type": "code",
   "execution_count": 48,
   "metadata": {},
   "outputs": [],
   "source": [
    "other_words.update({\n",
    "    'анда': 'там',\n",
    "})"
   ]
  },
  {
   "cell_type": "markdown",
   "metadata": {},
   "source": [
    "### Грамматика"
   ]
  },
  {
   "cell_type": "markdown",
   "metadata": {},
   "source": [
    "#### NOUN_IN_POSTFIXES - окончания, указывающие на время или место, в которых что-то проиходит"
   ]
  },
  {
   "cell_type": "code",
   "execution_count": 49,
   "metadata": {},
   "outputs": [],
   "source": [
    "NOUN_IN_POSTFIXES = {\n",
    "    VOICED: {\n",
    "        HARD: 'да',\n",
    "        SOFT: f'д{A_LOWER}',\n",
    "    },\n",
    "    VOICELESS: {\n",
    "        HARD: 'та',\n",
    "        SOFT: f'т{A_LOWER}',\n",
    "    },\n",
    "}"
   ]
  },
  {
   "cell_type": "markdown",
   "metadata": {},
   "source": [
    "## УРОК 11"
   ]
  },
  {
   "cell_type": "markdown",
   "metadata": {},
   "source": [
    "### Лексика"
   ]
  },
  {
   "cell_type": "code",
   "execution_count": null,
   "metadata": {},
   "outputs": [],
   "source": []
  },
  {
   "cell_type": "markdown",
   "metadata": {},
   "source": [
    "### Грамматика"
   ]
  },
  {
   "cell_type": "code",
   "execution_count": null,
   "metadata": {},
   "outputs": [],
   "source": []
  },
  {
   "cell_type": "markdown",
   "metadata": {},
   "source": [
    "### Дополнительная информация из урока 11:"
   ]
  },
  {
   "cell_type": "code",
   "execution_count": null,
   "metadata": {},
   "outputs": [],
   "source": []
  },
  {
   "cell_type": "markdown",
   "metadata": {},
   "source": [
    "## УРОК 12"
   ]
  },
  {
   "cell_type": "markdown",
   "metadata": {},
   "source": [
    "### Лексика"
   ]
  },
  {
   "cell_type": "code",
   "execution_count": null,
   "metadata": {},
   "outputs": [],
   "source": []
  },
  {
   "cell_type": "markdown",
   "metadata": {},
   "source": [
    "### Грамматика"
   ]
  },
  {
   "cell_type": "code",
   "execution_count": null,
   "metadata": {},
   "outputs": [],
   "source": []
  },
  {
   "cell_type": "markdown",
   "metadata": {},
   "source": [
    "### Дополнительная информация из урока 12:"
   ]
  },
  {
   "cell_type": "code",
   "execution_count": null,
   "metadata": {},
   "outputs": [],
   "source": []
  },
  {
   "cell_type": "markdown",
   "metadata": {},
   "source": [
    "## УРОК 13"
   ]
  },
  {
   "cell_type": "markdown",
   "metadata": {},
   "source": [
    "### Лексика"
   ]
  },
  {
   "cell_type": "code",
   "execution_count": null,
   "metadata": {},
   "outputs": [],
   "source": []
  },
  {
   "cell_type": "markdown",
   "metadata": {},
   "source": [
    "### Грамматика"
   ]
  },
  {
   "cell_type": "code",
   "execution_count": null,
   "metadata": {},
   "outputs": [],
   "source": []
  },
  {
   "cell_type": "markdown",
   "metadata": {},
   "source": [
    "### Дополнительная информация из урока 13:"
   ]
  },
  {
   "cell_type": "code",
   "execution_count": null,
   "metadata": {},
   "outputs": [],
   "source": []
  },
  {
   "cell_type": "markdown",
   "metadata": {},
   "source": [
    "## УРОК 14"
   ]
  },
  {
   "cell_type": "markdown",
   "metadata": {},
   "source": [
    "### Лексика"
   ]
  },
  {
   "cell_type": "code",
   "execution_count": null,
   "metadata": {},
   "outputs": [],
   "source": []
  },
  {
   "cell_type": "markdown",
   "metadata": {},
   "source": [
    "### Грамматика"
   ]
  },
  {
   "cell_type": "code",
   "execution_count": null,
   "metadata": {},
   "outputs": [],
   "source": []
  },
  {
   "cell_type": "markdown",
   "metadata": {},
   "source": [
    "### Дополнительная информация из урока 14:"
   ]
  },
  {
   "cell_type": "code",
   "execution_count": null,
   "metadata": {},
   "outputs": [],
   "source": []
  },
  {
   "cell_type": "markdown",
   "metadata": {},
   "source": [
    "## УРОК 15"
   ]
  },
  {
   "cell_type": "markdown",
   "metadata": {},
   "source": [
    "### Лексика"
   ]
  },
  {
   "cell_type": "code",
   "execution_count": null,
   "metadata": {},
   "outputs": [],
   "source": []
  },
  {
   "cell_type": "markdown",
   "metadata": {},
   "source": [
    "### Грамматика"
   ]
  },
  {
   "cell_type": "code",
   "execution_count": null,
   "metadata": {},
   "outputs": [],
   "source": []
  },
  {
   "cell_type": "markdown",
   "metadata": {},
   "source": [
    "### Дополнительная информация из урока 15:"
   ]
  },
  {
   "cell_type": "code",
   "execution_count": null,
   "metadata": {},
   "outputs": [],
   "source": []
  },
  {
   "cell_type": "markdown",
   "metadata": {},
   "source": [
    "## УРОК 16"
   ]
  },
  {
   "cell_type": "markdown",
   "metadata": {},
   "source": [
    "### Лексика"
   ]
  },
  {
   "cell_type": "code",
   "execution_count": null,
   "metadata": {},
   "outputs": [],
   "source": []
  },
  {
   "cell_type": "markdown",
   "metadata": {},
   "source": [
    "### Грамматика"
   ]
  },
  {
   "cell_type": "code",
   "execution_count": null,
   "metadata": {},
   "outputs": [],
   "source": []
  },
  {
   "cell_type": "markdown",
   "metadata": {},
   "source": [
    "### Дополнительная информация из урока 16:"
   ]
  },
  {
   "cell_type": "code",
   "execution_count": null,
   "metadata": {},
   "outputs": [],
   "source": []
  },
  {
   "cell_type": "markdown",
   "metadata": {},
   "source": [
    "## УРОК 17"
   ]
  },
  {
   "cell_type": "markdown",
   "metadata": {},
   "source": [
    "### Лексика"
   ]
  },
  {
   "cell_type": "code",
   "execution_count": null,
   "metadata": {},
   "outputs": [],
   "source": []
  },
  {
   "cell_type": "markdown",
   "metadata": {},
   "source": [
    "### Грамматика"
   ]
  },
  {
   "cell_type": "code",
   "execution_count": null,
   "metadata": {},
   "outputs": [],
   "source": []
  },
  {
   "cell_type": "markdown",
   "metadata": {},
   "source": [
    "### Дополнительная информация из урока 17:"
   ]
  },
  {
   "cell_type": "code",
   "execution_count": null,
   "metadata": {},
   "outputs": [],
   "source": []
  },
  {
   "cell_type": "markdown",
   "metadata": {},
   "source": [
    "## УРОК 18"
   ]
  },
  {
   "cell_type": "markdown",
   "metadata": {},
   "source": [
    "### Лексика"
   ]
  },
  {
   "cell_type": "code",
   "execution_count": null,
   "metadata": {},
   "outputs": [],
   "source": []
  },
  {
   "cell_type": "markdown",
   "metadata": {},
   "source": [
    "### Грамматика"
   ]
  },
  {
   "cell_type": "code",
   "execution_count": null,
   "metadata": {},
   "outputs": [],
   "source": []
  },
  {
   "cell_type": "markdown",
   "metadata": {},
   "source": [
    "### Дополнительная информация из урока 18:"
   ]
  },
  {
   "cell_type": "code",
   "execution_count": null,
   "metadata": {},
   "outputs": [],
   "source": []
  },
  {
   "cell_type": "markdown",
   "metadata": {},
   "source": [
    "## УРОК 19"
   ]
  },
  {
   "cell_type": "markdown",
   "metadata": {},
   "source": [
    "### Лексика"
   ]
  },
  {
   "cell_type": "code",
   "execution_count": null,
   "metadata": {},
   "outputs": [],
   "source": []
  },
  {
   "cell_type": "markdown",
   "metadata": {},
   "source": [
    "### Грамматика"
   ]
  },
  {
   "cell_type": "code",
   "execution_count": null,
   "metadata": {},
   "outputs": [],
   "source": []
  },
  {
   "cell_type": "markdown",
   "metadata": {},
   "source": [
    "### Дополнительная информация из урока 19:"
   ]
  },
  {
   "cell_type": "code",
   "execution_count": null,
   "metadata": {},
   "outputs": [],
   "source": []
  },
  {
   "cell_type": "markdown",
   "metadata": {},
   "source": [
    "## УРОК 20"
   ]
  },
  {
   "cell_type": "markdown",
   "metadata": {},
   "source": [
    "### Лексика"
   ]
  },
  {
   "cell_type": "code",
   "execution_count": null,
   "metadata": {},
   "outputs": [],
   "source": []
  },
  {
   "cell_type": "markdown",
   "metadata": {},
   "source": [
    "### Грамматика"
   ]
  },
  {
   "cell_type": "code",
   "execution_count": null,
   "metadata": {},
   "outputs": [],
   "source": []
  },
  {
   "cell_type": "markdown",
   "metadata": {},
   "source": [
    "### Дополнительная информация из урока 20:"
   ]
  },
  {
   "cell_type": "code",
   "execution_count": null,
   "metadata": {},
   "outputs": [],
   "source": []
  },
  {
   "cell_type": "markdown",
   "metadata": {},
   "source": [
    "## УРОК 21"
   ]
  },
  {
   "cell_type": "markdown",
   "metadata": {},
   "source": [
    "### Лексика"
   ]
  },
  {
   "cell_type": "code",
   "execution_count": null,
   "metadata": {},
   "outputs": [],
   "source": []
  },
  {
   "cell_type": "markdown",
   "metadata": {},
   "source": [
    "### Грамматика"
   ]
  },
  {
   "cell_type": "code",
   "execution_count": null,
   "metadata": {},
   "outputs": [],
   "source": []
  },
  {
   "cell_type": "markdown",
   "metadata": {},
   "source": [
    "### Дополнительная информация из урока 21:"
   ]
  },
  {
   "cell_type": "code",
   "execution_count": null,
   "metadata": {},
   "outputs": [],
   "source": []
  },
  {
   "cell_type": "markdown",
   "metadata": {},
   "source": [
    "## УРОК 22"
   ]
  },
  {
   "cell_type": "markdown",
   "metadata": {},
   "source": [
    "### Лексика"
   ]
  },
  {
   "cell_type": "code",
   "execution_count": null,
   "metadata": {},
   "outputs": [],
   "source": []
  },
  {
   "cell_type": "markdown",
   "metadata": {},
   "source": [
    "### Грамматика"
   ]
  },
  {
   "cell_type": "code",
   "execution_count": null,
   "metadata": {},
   "outputs": [],
   "source": []
  },
  {
   "cell_type": "markdown",
   "metadata": {},
   "source": [
    "### Дополнительная информация из урока 22:"
   ]
  },
  {
   "cell_type": "code",
   "execution_count": null,
   "metadata": {},
   "outputs": [],
   "source": []
  },
  {
   "cell_type": "markdown",
   "metadata": {},
   "source": [
    "## УРОК 23"
   ]
  },
  {
   "cell_type": "markdown",
   "metadata": {},
   "source": [
    "### Лексика"
   ]
  },
  {
   "cell_type": "code",
   "execution_count": null,
   "metadata": {},
   "outputs": [],
   "source": []
  },
  {
   "cell_type": "markdown",
   "metadata": {},
   "source": [
    "### Грамматика"
   ]
  },
  {
   "cell_type": "code",
   "execution_count": null,
   "metadata": {},
   "outputs": [],
   "source": []
  },
  {
   "cell_type": "markdown",
   "metadata": {},
   "source": [
    "### Дополнительная информация из урока 23:"
   ]
  },
  {
   "cell_type": "code",
   "execution_count": null,
   "metadata": {},
   "outputs": [],
   "source": []
  },
  {
   "cell_type": "markdown",
   "metadata": {},
   "source": [
    "## УРОК 24"
   ]
  },
  {
   "cell_type": "markdown",
   "metadata": {},
   "source": [
    "### Лексика"
   ]
  },
  {
   "cell_type": "code",
   "execution_count": null,
   "metadata": {},
   "outputs": [],
   "source": []
  },
  {
   "cell_type": "markdown",
   "metadata": {},
   "source": [
    "### Грамматика"
   ]
  },
  {
   "cell_type": "code",
   "execution_count": null,
   "metadata": {},
   "outputs": [],
   "source": []
  },
  {
   "cell_type": "markdown",
   "metadata": {},
   "source": [
    "### Дополнительная информация из урока 24:"
   ]
  },
  {
   "cell_type": "code",
   "execution_count": null,
   "metadata": {},
   "outputs": [],
   "source": []
  },
  {
   "cell_type": "code",
   "execution_count": 50,
   "metadata": {},
   "outputs": [
    {
     "data": {
      "text/plain": [
       "[('cay', 'здоровый'),\n",
       " ('бай', 'богатый'),\n",
       " ('буш', 'свободный'),\n",
       " ('бәхетле', 'счастливый'),\n",
       " ('кадерле', 'дорогой'),\n",
       " ('көчле', 'сильный'),\n",
       " ('шат', 'радостный'),\n",
       " ('яхшы', 'хороший')]"
      ]
     },
     "execution_count": 50,
     "metadata": {},
     "output_type": "execute_result"
    }
   ],
   "source": [
    "sorted(adjectives.items())"
   ]
  },
  {
   "cell_type": "code",
   "execution_count": 51,
   "metadata": {},
   "outputs": [
    {
     "data": {
      "text/plain": [
       "[('ал', 'бери'),\n",
       " ('аша', 'ешь'),\n",
       " ('бар', 'иди'),\n",
       " ('бел', 'знай'),\n",
       " ('бие', 'танцуй'),\n",
       " ('бир', 'дай'),\n",
       " ('бул', 'будь'),\n",
       " ('ит', 'делай'),\n",
       " ('кил', 'приходи'),\n",
       " ('күр', 'увидь'),\n",
       " ('көт', 'жди'),\n",
       " ('оныт', 'забудь'),\n",
       " ('оша', 'нравься'),\n",
       " ('сайла', 'выбирай'),\n",
       " ('сакла', 'защити'),\n",
       " ('сат', 'продавай'),\n",
       " ('сөйләш', 'говори'),\n",
       " ('телә', 'желай'),\n",
       " ('утыр', 'сядь'),\n",
       " ('эшлә', 'работай'),\n",
       " ('ю', 'мой'),\n",
       " ('яз', 'пиши'),\n",
       " ('ярат', 'люби'),\n",
       " ('өйрәт', 'научи')]"
      ]
     },
     "execution_count": 51,
     "metadata": {},
     "output_type": "execute_result"
    }
   ],
   "source": [
    "sorted(imperatives.items())"
   ]
  },
  {
   "cell_type": "code",
   "execution_count": 52,
   "metadata": {},
   "outputs": [
    {
     "data": {
      "text/plain": [
       "[('байлык', 'богатство'),\n",
       " ('бала', 'ребёнок'),\n",
       " ('белем', 'знание'),\n",
       " ('берлек', 'единство'),\n",
       " ('бәхет', 'счастье'),\n",
       " ('вакыт', 'время'),\n",
       " ('гафу', 'прощение'),\n",
       " ('дус', 'друг'),\n",
       " ('дуслык', 'дружба'),\n",
       " ('ел', 'год'),\n",
       " ('исем', 'имя'),\n",
       " ('йомырка', 'яйцо'),\n",
       " ('кеше', 'человек'),\n",
       " ('кешелек', 'человечество'),\n",
       " ('китап', 'книга'),\n",
       " ('кул', 'рука'),\n",
       " ('көч', 'сила'),\n",
       " ('рәхим', 'милость'),\n",
       " ('саулык', 'здоровье'),\n",
       " ('су', 'вода'),\n",
       " ('тавык', 'курица'),\n",
       " ('хәл', 'дело'),\n",
       " ('шатлык', 'радость'),\n",
       " ('яз', 'весна'),\n",
       " ('ярдәм', 'помощь'),\n",
       " ('өй', 'дом')]"
      ]
     },
     "execution_count": 52,
     "metadata": {},
     "output_type": "execute_result"
    }
   ],
   "source": [
    "sorted(nouns.items())"
   ]
  },
  {
   "cell_type": "code",
   "execution_count": 53,
   "metadata": {},
   "outputs": [
    {
     "data": {
      "text/plain": [
       "[('кайда', 'где'),\n",
       " ('кая', 'куда'),\n",
       " ('кем', 'кто'),\n",
       " ('кемгә', 'к кому'),\n",
       " ('кемне', 'кого'),\n",
       " ('ничек', 'как'),\n",
       " ('нәрсә', 'что')]"
      ]
     },
     "execution_count": 53,
     "metadata": {},
     "output_type": "execute_result"
    }
   ],
   "source": [
    "sorted(questions.items())"
   ]
  }
 ],
 "metadata": {
  "kernelspec": {
   "display_name": "Python 3",
   "language": "python",
   "name": "python3"
  },
  "language_info": {
   "codemirror_mode": {
    "name": "ipython",
    "version": 3
   },
   "file_extension": ".py",
   "mimetype": "text/x-python",
   "name": "python",
   "nbconvert_exporter": "python",
   "pygments_lexer": "ipython3",
   "version": "3.8.2"
  }
 },
 "nbformat": 4,
 "nbformat_minor": 4
}
