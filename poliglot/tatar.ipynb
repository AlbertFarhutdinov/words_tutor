{
 "cells": [
  {
   "cell_type": "markdown",
   "metadata": {},
   "source": [
    "# Татарский язык"
   ]
  },
  {
   "cell_type": "markdown",
   "metadata": {},
   "source": [
    "## Грамматические категории\n",
    "   - твёрдые / мягкие (hard / soft) гласные;\n",
    "   - звонкие / глухие (voiced / voiceless) согласные;\n",
    "   - носовые / неносовые (nasal / non_nasal) согласные;\n",
    "   - единственное / множественное (singular / plural) число;\n",
    "   - настоящее / прошедшее / будущее (present / past / future) время;\n",
    "   - гласный / согласный (vowel / consonant) звук;\n",
    "   - утвердительное / отрицательное / вопросительное (affirmative / negative / question) предложение;"
   ]
  },
  {
   "cell_type": "code",
   "execution_count": 54,
   "metadata": {},
   "outputs": [],
   "source": [
    "HARD = 'hard'\n",
    "SOFT = 'soft'\n",
    "\n",
    "VOICED = 'voiced'\n",
    "VOICELESS = 'voiceless'\n",
    "\n",
    "NASAL = 'nasal'\n",
    "NON_NASAL = 'non_nasal'\n",
    "\n",
    "SINGULAR = 'singular'\n",
    "PLURAL = 'plural'\n",
    "\n",
    "PRESENT = 'present'\n",
    "PAST = 'past'\n",
    "FUTURE = 'future'\n",
    "\n",
    "VOWEL = 'vowel'\n",
    "CONSONANT = 'consonant'\n",
    "\n",
    "AFFIRMATIVE = 'affirmative'\n",
    "NEGATIVE = 'negative'\n",
    "QUESTION = 'question'\n",
    "\n",
    "INFINITIVE = 'infinitive'"
   ]
  },
  {
   "cell_type": "markdown",
   "metadata": {},
   "source": [
    "## Алфавит и фонетика\n",
    "\n",
    "Татарский алфавит состоит из кириллицы с добавлением нескольких специфичных букв:\n",
    "- SCHWA = ә;\n",
    "- ZHE WITH DESCENDER = җ;\n",
    "- EN WITH DESCENDER = ң;\n",
    "- BARRED O = ө;\n",
    "- STRAIGHT U = ү;\n",
    "- SHHA = һ;\n",
    "\n",
    "Особенности произношения:\n",
    "- \"е\" в татарском более короткая, \n",
    "- \"а\" - более глубокая, нечто среднее между \"а\" и \"о\", \n",
    "- \"ы\" тоже короткая, звучит как пропуск;\n",
    "- \"ч\" читается как \"щ\";\n",
    "- Твёрдое \"х\" используется в словах, пришедших из арабского, мягкое придыхательное \"h\" используется в словах, пришедших из персидского;\n",
    "- Для фонетического комфорта происходит чередование согласных на конце слова, например: китап - китабым, чыгам - чыгтым;"
   ]
  },
  {
   "cell_type": "code",
   "execution_count": 27,
   "metadata": {},
   "outputs": [],
   "source": [
    "A_UPPER = '\\N{CYRILLIC CAPITAL LETTER SCHWA}'\n",
    "G_UPPER = '\\N{CYRILLIC CAPITAL LETTER ZHE WITH DESCENDER}'\n",
    "N_UPPER = '\\N{CYRILLIC CAPITAL LETTER EN WITH DESCENDER}'\n",
    "O_UPPER = '\\N{CYRILLIC CAPITAL LETTER BARRED O}'\n",
    "U_UPPER = '\\N{CYRILLIC CAPITAL LETTER STRAIGHT U}'\n",
    "H_UPPER = '\\N{CYRILLIC CAPITAL LETTER SHHA}'\n",
    "\n",
    "A_LOWER = '\\N{CYRILLIC SMALL LETTER SCHWA}'\n",
    "G_LOWER = '\\N{CYRILLIC SMALL LETTER ZHE WITH DESCENDER}'\n",
    "N_LOWER = '\\N{CYRILLIC SMALL LETTER EN WITH DESCENDER}'\n",
    "O_LOWER = '\\N{CYRILLIC SMALL LETTER BARRED O}'\n",
    "U_LOWER = '\\N{CYRILLIC SMALL LETTER STRAIGHT U}'\n",
    "H_LOWER = '\\N{CYRILLIC SMALL LETTER SHHA}'"
   ]
  },
  {
   "cell_type": "code",
   "execution_count": 28,
   "metadata": {},
   "outputs": [],
   "source": [
    "CONSONANTS = {\n",
    "    'б', 'в', 'г', 'д', 'ж', G_LOWER, \n",
    "    'з', 'й', 'к', 'л', 'м', 'н', N_LOWER,\n",
    "    'п', 'р', 'с', 'т', 'ф', 'х', H_LOWER, \n",
    "    'ц', 'ч', 'ш', 'щ',\n",
    "}\n",
    "\n",
    "VOWELS = {\n",
    "    'а', A_LOWER, \n",
    "    'е', 'ё', 'и', 'о', O_LOWER, 'у',\n",
    "    U_LOWER, 'ы', 'э', 'ю', 'я',\n",
    "}\n",
    "\n",
    "HARD_VOWELS = {'а', 'о', 'у', 'ы', 'э'}\n",
    "SOFT_VOWELS = {A_LOWER, 'е', 'ё', 'и', O_LOWER, U_LOWER, 'ю', 'я'}\n",
    "NASAL_CONSONANTS = {'м', 'н', N_LOWER}\n"
   ]
  },
  {
   "cell_type": "markdown",
   "metadata": {},
   "source": [
    "## Лексика\n",
    "\n",
    "Местоимения: \n",
    "- `PRONOUNS_NOMINATIVE` - местоимения в именительном падеже. Ключ словаря: кортеж (лицо, число);\n",
    "- `PRONOUNS_ACCUSATIVE` - местоимения в винительном падеже. Ключ словаря: кортеж (лицо, число);\n",
    "- `PRONOUNS_DATIVE` - местоимения в дательном (направительном) падеже\n",
    "\n",
    "Глаголы:\n",
    "- `imperatives` - словарь глаголов в повелительном наклонении. Используются как основа для образования всех остальных форм глагола. Все глаголы можно разделить на глаголы с согласной / гласной на конце (CONSONANT / VOWEL) \n",
    "и на глаголы с твёрдыми / мягкими гласными (HARD / SOFT).\n",
    "\n",
    "Прилагательные:\n",
    "- `adjectives` - словарь с татарскими прилагательными и их переводом.\n",
    "\n",
    "Существительные:\n",
    "- `nouns` - словарь с татарскими существительными и их переводом.\n",
    "\n",
    "Вопросительные местоимения:\n",
    "- `questions` - вопросительные местоимения.\n",
    "\n",
    "Числительные:\n",
    "- `NUMBERS` - словарь татарских числительных с переводом\n",
    "\n",
    "Послелоги:\n",
    "- `POST_WORDS` - послелоги, аналоги предлогов, которые ставятся после объекта, с которым они связаны. Употребляются с притяжательными местоимениями (кроме \"алар\" - \"они) или существительными в именительном падеже\n",
    "\n",
    "Другие слова:\n",
    "- `other_words` - слова, не попавшие в остальные группы"
   ]
  },
  {
   "cell_type": "code",
   "execution_count": 29,
   "metadata": {},
   "outputs": [],
   "source": [
    "PRONOUNS_NOMINATIVE = {\n",
    "    (1, SINGULAR): 'мин',\n",
    "    (2, SINGULAR): 'cин',\n",
    "    (3, SINGULAR): 'ул',\n",
    "    (1, PLURAL): 'без',\n",
    "    (2, PLURAL): 'сез',\n",
    "    (3, PLURAL): 'алар',\n",
    "}\n",
    "PRONOUNS_ACCUSATIVE = {\n",
    "    (1, SINGULAR): 'мине',\n",
    "    (2, SINGULAR): 'cине',\n",
    "    (3, SINGULAR): f'а{N_LOWER}ы',\n",
    "    (1, PLURAL): 'безне',\n",
    "    (2, PLURAL): 'сезне',\n",
    "    (3, PLURAL): 'аларны',\n",
    "}\n",
    "PRONOUNS_DATIVE = {\n",
    "    (1, SINGULAR): f'ми{N_LOWER}a',\n",
    "    (2, SINGULAR): f'cи{N_LOWER}а',\n",
    "    (3, SINGULAR): f'а{N_LOWER}а',\n",
    "    (1, PLURAL): f'безг{A_LOWER}',\n",
    "    (2, PLURAL): f'сезг{A_LOWER}',\n",
    "    (3, PLURAL): 'аларга',\n",
    "}"
   ]
  },
  {
   "cell_type": "code",
   "execution_count": 30,
   "metadata": {},
   "outputs": [],
   "source": [
    "imperatives = {\n",
    "    'ал': 'бери',\n",
    "    'бир': 'дай',\n",
    "    'уйла': 'думай',\n",
    "    f'эшл{A_LOWER}': 'работай',\n",
    "    'ярат': 'люби',\n",
    "    'бел': 'знай',\n",
    "    'аша': 'ешь',\n",
    "    f'яш{A_LOWER}': 'живи',\n",
    "    f'{O_LOWER}йр{A_LOWER}т': 'научи',\n",
    "    'бар': 'иди',\n",
    "    'кил': 'приходи',\n",
    "    f'{A_LOWER}йт': 'скажи',\n",
    "    f'йокла': 'спи',\n",
    "    f'с{O_LOWER}йл{A_LOWER}': 'разговаривай',\n",
    "    f'эзл{A_LOWER}': 'ищи',\n",
    "    'ач': 'открой',\n",
    "    'кер': 'входи',\n",
    "    'чык': 'выходи',\n",
    "    'кит': 'уходи',\n",
    "    'кайт': 'возвращайся',\n",
    "    'бул': 'будь',\n",
    "    # 'яз': 'пиши',\n",
    "    # 'оныт': 'забудь',\n",
    "    # 'сайла': 'выбирай',\n",
    "    # 'сакла': 'защити',\n",
    "    # f'к{O_LOWER}т': 'жди',\n",
    "    # 'сат': 'продавай',\n",
    "    # 'ит': 'делай',\n",
    "    # 'ю': 'мой',\n",
    "    # 'бие': 'танцуй',\n",
    "    # 'оша': 'нравься',\n",
    "    # f'тел{A_LOWER}': 'желай',\n",
    "    # 'утыр': 'сядь',\n",
    "    # f'с{O_LOWER}йл{A_LOWER}ш': 'говори',\n",
    "    # f'к{U_LOWER}р': 'увидь',\n",
    "}"
   ]
  },
  {
   "cell_type": "code",
   "execution_count": 31,
   "metadata": {},
   "outputs": [],
   "source": [
    "adjectives = {\n",
    "    'татлы': 'сладкий',\n",
    "    'тимер': 'железный',\n",
    "    'шат': 'радостный',\n",
    "    # 'cay': 'здоровый',\n",
    "    # f'б{A_LOWER}хетле': 'счастливый',\n",
    "    # 'кадерле': 'дорогой',\n",
    "    # 'яхшы': 'хороший',\n",
    "    # 'бай': 'богатый',\n",
    "    # 'буш': 'свободный',\n",
    "    # f'к{O_LOWER}чле': 'сильный',\n",
    "}"
   ]
  },
  {
   "cell_type": "code",
   "execution_count": 32,
   "metadata": {},
   "outputs": [],
   "source": [
    "nouns = {\n",
    "    'кеше': 'человек',\n",
    "    'хата': 'ошибка',\n",
    "    f'х{A_LOWER}л': 'дело',\n",
    "    'тел': 'язык',\n",
    "    'капка': 'ворота',\n",
    "    'исем': 'имя',\n",
    "    'авыл': 'деревня',\n",
    "    f'{O_LOWER}й': 'дом',\n",
    "    'кунак': 'гость',\n",
    "    'кибет': 'магазин',\n",
    "    'урам': 'улица',\n",
    "    f'ш{A_LOWER}{H_LOWER}{A_LOWER}р': 'город',\n",
    "    'фатир': 'квартира',\n",
    "    f'м{A_LOWER}кт{A_LOWER}п': 'школа',\n",
    "    f'эш': 'работа',\n",
    "    'ел': 'год',\n",
    "    'яз': 'весна',\n",
    "    # 'гафу': 'прощение',\n",
    "    # f'р{A_LOWER}хим': 'милость',\n",
    "    # f'ярд{A_LOWER}м': 'помощь',\n",
    "    # 'белем': 'знание',\n",
    "    # f'б{A_LOWER}хет': 'счастье',\n",
    "    # 'дус': 'друг',\n",
    "    # 'йомырка': 'яйцо',\n",
    "    # 'тавык': 'курица',\n",
    "    # 'бала': 'ребёнок',\n",
    "    # 'кул': 'рука',\n",
    "    # 'шатлык': 'радость',\n",
    "    # 'байлык': 'богатство',\n",
    "    # 'берлек': 'единство',\n",
    "    # 'су': 'вода',\n",
    "    # 'вакыт': 'время',\n",
    "    # f'к{O_LOWER}ч': 'сила',\n",
    "    # 'дуслык': 'дружба',\n",
    "    # 'саулык': 'здоровье',\n",
    "    # 'кешелек': 'человечество',\n",
    "    # 'китап': 'книга',\n",
    "}"
   ]
  },
  {
   "cell_type": "code",
   "execution_count": 33,
   "metadata": {},
   "outputs": [],
   "source": [
    "questions = {\n",
    "    'кем': 'кто',\n",
    "    'кемне': 'кого',\n",
    "    'ничек': 'как',\n",
    "    f'кемг{A_LOWER}': 'к кому',\n",
    "    'кая': 'куда',\n",
    "    # f'н{A_LOWER}рс{A_LOWER}': 'что',\n",
    "    # 'кайда': 'где',\n",
    "}"
   ]
  },
  {
   "cell_type": "code",
   "execution_count": 34,
   "metadata": {},
   "outputs": [],
   "source": [
    "numbers = {\n",
    "    'бер': 'один',\n",
    "    'ике': 'два',\n",
    "}"
   ]
  },
  {
   "cell_type": "code",
   "execution_count": 35,
   "metadata": {},
   "outputs": [],
   "source": [
    "# post_words = {\n",
    "#     f'бел{A_LOWER}н': 'с',\n",
    "#     'турында': 'о',\n",
    "#     f'{O_LOWER}чен': 'для',\n",
    "# }"
   ]
  },
  {
   "cell_type": "code",
   "execution_count": 36,
   "metadata": {},
   "outputs": [],
   "source": [
    "other_words = {\n",
    "    'шул': 'тот',\n",
    "    'бик': 'очень',\n",
    "    f'т{U_LOWER}гел': 'не',\n",
    "    # f'х{A_LOWER}зер': 'сейчас',\n",
    "    # f'кир{A_LOWER}к': 'надо',\n",
    "    # 'бар': 'есть',\n",
    "    # 'юк': 'нет',\n",
    "    # 'бу': 'это',\n",
    "    # 'монда': 'здесь',\n",
    "    # f'моны{N_LOWER}': 'это (притяжательная форма)',\n",
    "    # 'моны': 'это (винительная форма)',\n",
    "    # 'анда': 'там',\n",
    "}"
   ]
  },
  {
   "cell_type": "markdown",
   "metadata": {},
   "source": [
    "## Грамматика"
   ]
  },
  {
   "cell_type": "code",
   "execution_count": null,
   "metadata": {},
   "outputs": [],
   "source": [
    "vowel_alternations = [\n",
    "    {HARD: 'а', SOFT: A_LOWER},\n",
    "    {HARD: 'ы', SOFT: 'e'},\n",
    "    {HARD: 'ый', SOFT: 'и'},\n",
    "]\n",
    "consonant_alternations = [\n",
    "    {VOICED: 'г', VOICELESS: 'к'},\n",
    "    {VOICED: 'д', VOICELESS: 'т'},\n",
    "]"
   ]
  },
  {
   "cell_type": "markdown",
   "metadata": {},
   "source": [
    "### Урок 1. Спряжение глаголов в настоящем времени\n",
    "- Глагол в утвердительной форме и настоящем времени: императив + утвердительное окончание + притяжательное окончание.\n",
    "- Чтобы проспрягать глагол, оканчивающийся на гласную, нужно добавить оканчание к императиву без последней гласной на конце, т.е. уйла -> уйлый.\n",
    "- Глагол в отрицательной форме и настоящем времени: императив + отрицательное окончание + притяжательное окончание.\n",
    "- Вопросительные окончания добавляются после остальных окончаний.\n",
    "\n",
    "Словари:\n",
    "- `VERB_INFINITIVE_POSTFIXES` - окончания глаголов в неопределенной форме.\n",
    "- `VERB_POSSESIVE_PRESENT_POSTFIXES` - притяжательные окончания глаголов в настоящем времени.\n",
    "- `VERB_AFFIRMATIVE_PRESENT_POSTFIXES` - окончания глаголов в утвердительной форме настоящего времени.\n",
    "- `VERB_NEGATIVE_PRESENT_POSTFIXES` - окончания глаголов в отрицательной форме прошедшего времени.\n",
    "- `VERB_QUESTION_POSTFIXES` - вопросительные окончания для глаголов и послелогов при отсутствии вопросительных слов (аналог частицы \"ли\" в русском языке).\n"
   ]
  },
  {
   "cell_type": "code",
   "execution_count": 37,
   "metadata": {},
   "outputs": [],
   "source": [
    "VERB_INFINITIVE_POSTFIXES = {\n",
    "    CONSONANT: {\n",
    "        HARD: 'ырга',\n",
    "        SOFT: f'ерг{A_LOWER}',\n",
    "    },\n",
    "    VOWEL: {\n",
    "        HARD: 'арга',\n",
    "        SOFT: f'{A_LOWER}рг{A_LOWER}',\n",
    "    }\n",
    "}"
   ]
  },
  {
   "cell_type": "code",
   "execution_count": 38,
   "metadata": {},
   "outputs": [],
   "source": [
    "VERB_POSSESIVE_PRESENT_POSTFIXES = {\n",
    "    HARD: {\n",
    "        (1, SINGULAR): 'м',\n",
    "        (2, SINGULAR): f'сы{N_LOWER}',\n",
    "        (3, SINGULAR): '',\n",
    "        (1, PLURAL): 'быз',\n",
    "        (2, PLURAL): 'сыз',\n",
    "        (3, PLURAL): 'лар',\n",
    "    },\n",
    "    SOFT: {\n",
    "        (1, SINGULAR): 'м',\n",
    "        (2, SINGULAR): f'се{N_LOWER}',\n",
    "        (3, SINGULAR): '',\n",
    "        (1, PLURAL): 'без',\n",
    "        (2, PLURAL): 'сез',\n",
    "        (3, PLURAL): f'л{A_LOWER}р',\n",
    "    },\n",
    "}"
   ]
  },
  {
   "cell_type": "code",
   "execution_count": 39,
   "metadata": {},
   "outputs": [],
   "source": [
    "VERB_AFFIRMATIVE_PRESENT_POSTFIXES = {\n",
    "    CONSONANT: {\n",
    "        HARD: 'a',\n",
    "        SOFT: A_LOWER,\n",
    "    },\n",
    "    VOWEL: {\n",
    "        HARD: 'ый',\n",
    "        SOFT: 'и',\n",
    "    }\n",
    "}"
   ]
  },
  {
   "cell_type": "code",
   "execution_count": 40,
   "metadata": {},
   "outputs": [],
   "source": [
    "VERB_NEGATIVE_PRESENT_POSTFIXES = {\n",
    "    HARD: 'мый',\n",
    "    SOFT: 'ми',\n",
    "}"
   ]
  },
  {
   "cell_type": "code",
   "execution_count": 41,
   "metadata": {},
   "outputs": [],
   "source": [
    "VERB_QUESTION_POSTFIXES = {\n",
    "    HARD: 'мы',\n",
    "    SOFT: 'ме',\n",
    "}"
   ]
  },
  {
   "cell_type": "markdown",
   "metadata": {},
   "source": [
    "### УРОК 2. Спряжение глаголов в прошедшем времени. Составление простых предложений.\n",
    "- Глагол в утвердительной форме и прошедшем времени: императив + окончание прошедшего времени + притяжательное окончание.\n",
    "- Глагол в отрицательной форме и прошедшем времени: императив + отрицательное окончание + окончание прошедшего времени + притяжательное окончание.\n",
    "- Правильный порядок слов: субъект - объект - действие.\n",
    "- Глагол всегда ставится в конце предложения.\n",
    "\n",
    "Словари:\n",
    "- `VERB_PAST_POSTFIXES` - окончания глаголов в форме прошедшего времени.\n",
    "- `VERB_POSSESIVE_PAST_POSTFIXES` - притяжательные окончания глаголов в форме прошедшего времени.\n",
    "- `VERB_NEGATIVE_PAST_POSTFIXES` - окончания глаголов в отрицательной форме прошедшего времени.\n",
    "- `NOUN_ACCUSATIVE_POSTFIXES` - окончания существительных в винительном падеже"
   ]
  },
  {
   "cell_type": "code",
   "execution_count": 42,
   "metadata": {},
   "outputs": [],
   "source": [
    "VERB_PAST_POSTFIXES = {\n",
    "    HARD: {VOICED: 'ды', VOICELESS: 'ты'},\n",
    "    SOFT: {VOICED: 'де', VOICELESS: 'те'},\n",
    "}"
   ]
  },
  {
   "cell_type": "code",
   "execution_count": 43,
   "metadata": {},
   "outputs": [],
   "source": [
    "VERB_POSSESIVE_PAST_POSTFIXES = {\n",
    "    HARD: {\n",
    "        (1, SINGULAR): 'м',\n",
    "        (2, SINGULAR): N_LOWER,\n",
    "        (3, SINGULAR): '',\n",
    "        (1, PLURAL): 'к',\n",
    "        (2, PLURAL): 'гыз',\n",
    "        (3, PLURAL): 'лар',\n",
    "    },\n",
    "    SOFT: {\n",
    "        (1, SINGULAR): 'м',\n",
    "        (2, SINGULAR): N_LOWER,\n",
    "        (3, SINGULAR): '',\n",
    "        (1, PLURAL): 'к',\n",
    "        (2, PLURAL): 'гез',\n",
    "        (3, PLURAL): f'л{A_LOWER}р',\n",
    "    },\n",
    "}"
   ]
  },
  {
   "cell_type": "code",
   "execution_count": 44,
   "metadata": {},
   "outputs": [],
   "source": [
    "VERB_NEGATIVE_PAST_POSTFIXES = {\n",
    "    HARD: 'ма',\n",
    "    SOFT: f'м{A_LOWER}',\n",
    "}"
   ]
  },
  {
   "cell_type": "code",
   "execution_count": 45,
   "metadata": {},
   "outputs": [],
   "source": [
    "NOUN_ACCUSATIVE_POSTFIXES = {\n",
    "    HARD: 'ны',\n",
    "    SOFT: 'не',\n",
    "}"
   ]
  },
  {
   "cell_type": "markdown",
   "metadata": {},
   "source": [
    "### УРОК 3. Спряжение глаголов в будущем времени\n",
    "- Глагол в утвердительной форме в будущем времени: императив + окончание будущего времени + притяжательное окончание.\n",
    "- Другой вариант: инфинитив - окончание \"га\" + притяжательное окончание.\n",
    "- Глагол в отрицательной форме и прошедшем времени: императив + отрицательное притяжательное окончание будущего времени.\n",
    "\n",
    "Словари:\n",
    "- `VERB_AFFIRMATIVE_FUTURE_POSTFIXES` - окончания глаголов в форме будущего времени.\n",
    "- `VERB_POSSESIVE_FUTURE_POSTFIXES` - притяжательные окончания глаголов в форме будущего времени.\n",
    "- `VERB_NEGATIVE_FUTURE_POSTFIXES` - окончания глаголов в отрицательной форме будущего времени."
   ]
  },
  {
   "cell_type": "code",
   "execution_count": 46,
   "metadata": {},
   "outputs": [],
   "source": [
    "VERB_AFFIRMATIVE_FUTURE_POSTFIXES = {\n",
    "    CONSONANT: {\n",
    "        HARD: 'ыр',\n",
    "        SOFT: 'ер',\n",
    "    },\n",
    "    VOWEL: {\n",
    "        HARD: 'р',\n",
    "        SOFT: 'р',\n",
    "    }\n",
    "}"
   ]
  },
  {
   "cell_type": "code",
   "execution_count": 47,
   "metadata": {},
   "outputs": [],
   "source": [
    "VERB_POSSESIVE_FUTURE_POSTFIXES = {\n",
    "    HARD: {\n",
    "        (1, SINGULAR): 'мын',\n",
    "        (2, SINGULAR): f'сы{N_LOWER}',\n",
    "        (3, SINGULAR): '',\n",
    "        (1, PLURAL): 'быз',\n",
    "        (2, PLURAL): 'сыз',\n",
    "        (3, PLURAL): 'лар',\n",
    "    },\n",
    "    SOFT: {\n",
    "        (1, SINGULAR): 'мен',\n",
    "        (2, SINGULAR): f'се{N_LOWER}',\n",
    "        (3, SINGULAR): '',\n",
    "        (1, PLURAL): 'без',\n",
    "        (2, PLURAL): 'сез',\n",
    "        (3, PLURAL): f'л{A_LOWER}р',\n",
    "    },\n",
    "}"
   ]
  },
  {
   "cell_type": "code",
   "execution_count": 48,
   "metadata": {},
   "outputs": [],
   "source": [
    "VERB_NEGATIVE_FUTURE_POSTFIXES = {\n",
    "    HARD: {\n",
    "        (1, SINGULAR): 'мам',\n",
    "        (2, SINGULAR): f'массы{N_LOWER}',\n",
    "        (3, SINGULAR): 'мас',\n",
    "        (1, PLURAL): 'мабыз',\n",
    "        (2, PLURAL): 'массыз',\n",
    "        (3, PLURAL): 'маслар',\n",
    "    },\n",
    "    SOFT: {\n",
    "        (1, SINGULAR): f'м{A_LOWER}м',\n",
    "        (2, SINGULAR): f'м{A_LOWER}ссе{N_LOWER}',\n",
    "        (3, SINGULAR): f'м{A_LOWER}с',\n",
    "        (1, PLURAL): f'м{A_LOWER}без',\n",
    "        (2, PLURAL): f'м{A_LOWER}ссез',\n",
    "        (3, PLURAL): f'м{A_LOWER}сл{A_LOWER}р',\n",
    "    },\n",
    "}"
   ]
  },
  {
   "cell_type": "markdown",
   "metadata": {},
   "source": [
    "### УРОК 4. Падежные окончания существительных\n",
    "\n",
    "Словари:\n",
    "- `NOUN_DIRECTION_POSTFIXES` - окончания существительных в направительном падеже (Куда? К кому?).\n",
    "- `NOUN_LOCATION_POSTFIXES` - окончания существительных в местном падеже (Где? В какое время?)\n",
    "- `NOUN_ABLATIVE_POSTFIXES` - окончания существительных в исходном падеже (Откуда? От кого?)"
   ]
  },
  {
   "cell_type": "code",
   "execution_count": null,
   "metadata": {},
   "outputs": [],
   "source": [
    "NOUN_DIRECTION_POSTFIXES = {\n",
    "    VOICED: {\n",
    "        HARD: 'га',\n",
    "        SOFT: f'г{A_LOWER}',\n",
    "    },\n",
    "    VOICELESS: {\n",
    "        HARD: 'ка',\n",
    "        SOFT: f'к{A_LOWER}',\n",
    "    },\n",
    "}"
   ]
  },
  {
   "cell_type": "code",
   "execution_count": null,
   "metadata": {},
   "outputs": [],
   "source": [
    "NOUN_LOCATION_POSTFIXES = {\n",
    "    VOICED: {\n",
    "        HARD: 'да',\n",
    "        SOFT: f'д{A_LOWER}',\n",
    "    },\n",
    "    VOICELESS: {\n",
    "        HARD: 'та',\n",
    "        SOFT: f'т{A_LOWER}',\n",
    "    },\n",
    "}"
   ]
  },
  {
   "cell_type": "code",
   "execution_count": null,
   "metadata": {},
   "outputs": [],
   "source": [
    "NOUN_ABLATIVE_POSTFIXES = {\n",
    "    VOICED: {\n",
    "        HARD: 'дан',\n",
    "        SOFT: f'д{A_LOWER}н',\n",
    "        NASAL: 'нан',\n",
    "    },\n",
    "    VOICELESS: {\n",
    "        HARD: 'тан',\n",
    "        SOFT: f'т{A_LOWER}н',\n",
    "        NASAL: f'н{A_LOWER}н',\n",
    "    },\n",
    "}"
   ]
  },
  {
   "cell_type": "code",
   "execution_count": null,
   "metadata": {},
   "outputs": [],
   "source": []
  },
  {
   "cell_type": "markdown",
   "metadata": {},
   "source": [
    "## Старая версия курса"
   ]
  },
  {
   "cell_type": "markdown",
   "metadata": {},
   "source": [
    "- Спряжение глаголов проще тренировать на императивах, т.к. по инфинитивам не всегда понятно. Например: сатарга -> сатам, сакларга -> саклыйм;\n",
    "- В татарском языке ударение вариативно;\n",
    "- Глагол \"ю\" (\"мой\") спрягается как твёрдые глаголы с согласной на конце: ю - юам - ... - юалар\n",
    "- Окончание принадлежности идёт в существительных после множественного числа;\n",
    "- Порядок слов (кроме глагола) может варьироваться в разговорной речи, в зависимости от того, на что делается акцент;\n",
    "- К слову надо тоже можно приписать вопросительное окончание как у глагола и оно ставится в конце предложения;\n",
    "- \"в\" читается как английская \"w\";\n",
    "- слова \"бар\" и \"юк\" стоят в конце предложения и могут иметь вопросительное окончание как у глагола;\n",
    "- Фраза \"У меня есть что-то\" переводится как \"Моё что-то есть\", например: \"У меня есть время\" - \"Минем вакытым бар\";\n",
    "- Если в предложении есть числительные, указывающие на количество предметов, то эти предметы употребляются в единственном числе, т.е. \"2 ребенка\" - \"ике бала\";\n",
    "\n",
    "Словари:\n",
    "- `IMPERATIVE_PLURAL_POSTFIXES` - окончания множественного числа глагола в повелительном наклонении.\n",
    "- `NOUN_POSSESIVE_POSTFIXES` - окончания принадлежности у существительных.\n",
    "- `NOUN_PLURAL_POSTFIXES` - окончания множественного числа у существительных"
   ]
  },
  {
   "cell_type": "code",
   "execution_count": 49,
   "metadata": {},
   "outputs": [],
   "source": [
    "IMPERATIVE_PLURAL_POSTFIXES = {\n",
    "    CONSONANT: {\n",
    "        HARD: 'ыгыз',\n",
    "        SOFT: 'егез',\n",
    "    },\n",
    "    VOWEL: {\n",
    "        HARD: 'гыз',\n",
    "        SOFT: 'гез',\n",
    "    }\n",
    "}"
   ]
  },
  {
   "cell_type": "code",
   "execution_count": 50,
   "metadata": {},
   "outputs": [],
   "source": [
    "NOUN_POSSESIVE_POSTFIXES = {\n",
    "    CONSONANT: {\n",
    "        HARD: {\n",
    "            (1, SINGULAR): 'ым',\n",
    "            (2, SINGULAR): f'ы{N_LOWER}',\n",
    "            (3, SINGULAR): 'ы',\n",
    "            (1, PLURAL): 'ыбыз',\n",
    "            (2, PLURAL): 'ыгыз',\n",
    "            (3, PLURAL): 'ы',\n",
    "        },\n",
    "        SOFT: {\n",
    "            (1, SINGULAR): 'ем',\n",
    "            (2, SINGULAR): f'е{N_LOWER}',\n",
    "            (3, SINGULAR): 'е',\n",
    "            (1, PLURAL): 'ебез',\n",
    "            (2, PLURAL): 'егез',\n",
    "            (3, PLURAL): 'е',\n",
    "        },\n",
    "    },\n",
    "    VOWEL:  {\n",
    "        HARD: {\n",
    "            (1, SINGULAR): 'м',\n",
    "            (2, SINGULAR): N_LOWER,\n",
    "            (3, SINGULAR): 'cы',\n",
    "            (1, PLURAL): 'быз',\n",
    "            (2, PLURAL): 'гыз',\n",
    "            (3, PLURAL): 'cы',\n",
    "        },\n",
    "        SOFT: {\n",
    "            (1, SINGULAR): 'м',\n",
    "            (2, SINGULAR): N_LOWER,\n",
    "            (3, SINGULAR): 'cе',\n",
    "            (1, PLURAL): 'без',\n",
    "            (2, PLURAL): 'гез',\n",
    "            (3, PLURAL): 'cе',\n",
    "        },\n",
    "    },\n",
    "}"
   ]
  },
  {
   "cell_type": "code",
   "execution_count": 51,
   "metadata": {},
   "outputs": [],
   "source": [
    "NOUN_PLURAL_POSTFIXES = {\n",
    "    NON_NASAL: {\n",
    "        HARD: 'лар',\n",
    "        SOFT: f'л{A_LOWER}р',\n",
    "    },\n",
    "    NASAL: {\n",
    "        HARD: 'нар',\n",
    "        SOFT: f'н{A_LOWER}р',\n",
    "    },\n",
    "}"
   ]
  },
  {
   "cell_type": "code",
   "execution_count": 53,
   "metadata": {},
   "outputs": [],
   "source": []
  }
 ],
 "metadata": {
  "kernelspec": {
   "display_name": "Python 3",
   "language": "python",
   "name": "python3"
  },
  "language_info": {
   "codemirror_mode": {
    "name": "ipython",
    "version": 3
   },
   "file_extension": ".py",
   "mimetype": "text/x-python",
   "name": "python",
   "nbconvert_exporter": "python",
   "pygments_lexer": "ipython3",
   "version": "3.11.3"
  }
 },
 "nbformat": 4,
 "nbformat_minor": 4
}
