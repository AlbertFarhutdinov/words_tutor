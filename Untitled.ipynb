{
 "cells": [
  {
   "cell_type": "code",
   "execution_count": 1,
   "id": "4896f0c6",
   "metadata": {
    "ExecuteTime": {
     "end_time": "2022-08-26T14:27:31.714209Z",
     "start_time": "2022-08-26T14:27:29.460640Z"
    }
   },
   "outputs": [],
   "source": [
    "import pandas as pd"
   ]
  },
  {
   "cell_type": "code",
   "execution_count": 6,
   "id": "89813d67",
   "metadata": {
    "ExecuteTime": {
     "end_time": "2022-08-26T14:28:44.886613Z",
     "start_time": "2022-08-26T14:28:44.862754Z"
    }
   },
   "outputs": [
    {
     "data": {
      "text/html": [
       "<div>\n",
       "<style scoped>\n",
       "    .dataframe tbody tr th:only-of-type {\n",
       "        vertical-align: middle;\n",
       "    }\n",
       "\n",
       "    .dataframe tbody tr th {\n",
       "        vertical-align: top;\n",
       "    }\n",
       "\n",
       "    .dataframe thead th {\n",
       "        text-align: right;\n",
       "    }\n",
       "</style>\n",
       "<table border=\"1\" class=\"dataframe\">\n",
       "  <thead>\n",
       "    <tr style=\"text-align: right;\">\n",
       "      <th></th>\n",
       "      <th>word</th>\n",
       "      <th>transcription</th>\n",
       "      <th>translation</th>\n",
       "    </tr>\n",
       "  </thead>\n",
       "  <tbody>\n",
       "    <tr>\n",
       "      <th>0</th>\n",
       "      <td>person (pl. people)</td>\n",
       "      <td>ˈpɜːsn</td>\n",
       "      <td>человек/персона</td>\n",
       "    </tr>\n",
       "    <tr>\n",
       "      <th>1</th>\n",
       "      <td>man (pl. men)</td>\n",
       "      <td>mæn</td>\n",
       "      <td>мужчина</td>\n",
       "    </tr>\n",
       "  </tbody>\n",
       "</table>\n",
       "</div>"
      ],
      "text/plain": [
       "                  word transcription      translation\n",
       "0  person (pl. people)        ˈpɜːsn  человек/персона\n",
       "1        man (pl. men)           mæn          мужчина"
      ]
     },
     "execution_count": 6,
     "metadata": {},
     "output_type": "execute_result"
    }
   ],
   "source": [
    "sky = pd.read_csv(r'skysmart1000.csv')\n",
    "sky.head(2)"
   ]
  },
  {
   "cell_type": "code",
   "execution_count": 7,
   "id": "f0c794fa",
   "metadata": {
    "ExecuteTime": {
     "end_time": "2022-08-26T14:28:50.134236Z",
     "start_time": "2022-08-26T14:28:50.122013Z"
    }
   },
   "outputs": [
    {
     "data": {
      "text/html": [
       "<div>\n",
       "<style scoped>\n",
       "    .dataframe tbody tr th:only-of-type {\n",
       "        vertical-align: middle;\n",
       "    }\n",
       "\n",
       "    .dataframe tbody tr th {\n",
       "        vertical-align: top;\n",
       "    }\n",
       "\n",
       "    .dataframe thead th {\n",
       "        text-align: right;\n",
       "    }\n",
       "</style>\n",
       "<table border=\"1\" class=\"dataframe\">\n",
       "  <thead>\n",
       "    <tr style=\"text-align: right;\">\n",
       "      <th></th>\n",
       "      <th>word</th>\n",
       "      <th>translation</th>\n",
       "    </tr>\n",
       "  </thead>\n",
       "  <tbody>\n",
       "    <tr>\n",
       "      <th>0</th>\n",
       "      <td>the</td>\n",
       "      <td>артикль</td>\n",
       "    </tr>\n",
       "    <tr>\n",
       "      <th>1</th>\n",
       "      <td>be</td>\n",
       "      <td>быть</td>\n",
       "    </tr>\n",
       "  </tbody>\n",
       "</table>\n",
       "</div>"
      ],
      "text/plain": [
       "  word translation\n",
       "0  the     артикль\n",
       "1   be        быть"
      ]
     },
     "execution_count": 7,
     "metadata": {},
     "output_type": "execute_result"
    }
   ],
   "source": [
    "dom = pd.read_csv(r'englishdom1000.csv')\n",
    "dom.head(2)"
   ]
  },
  {
   "cell_type": "code",
   "execution_count": 42,
   "id": "ae8c18b5",
   "metadata": {
    "ExecuteTime": {
     "end_time": "2022-08-26T14:42:58.448066Z",
     "start_time": "2022-08-26T14:42:58.440420Z"
    }
   },
   "outputs": [
    {
     "data": {
      "text/plain": [
       "1904"
      ]
     },
     "execution_count": 42,
     "metadata": {},
     "output_type": "execute_result"
    }
   ],
   "source": [
    "sky.shape[0] + dom.shape[0]"
   ]
  },
  {
   "cell_type": "code",
   "execution_count": 86,
   "id": "66bde032",
   "metadata": {
    "ExecuteTime": {
     "end_time": "2022-08-26T14:56:48.641772Z",
     "start_time": "2022-08-26T14:56:48.603632Z"
    }
   },
   "outputs": [
    {
     "data": {
      "text/html": [
       "<div>\n",
       "<style scoped>\n",
       "    .dataframe tbody tr th:only-of-type {\n",
       "        vertical-align: middle;\n",
       "    }\n",
       "\n",
       "    .dataframe tbody tr th {\n",
       "        vertical-align: top;\n",
       "    }\n",
       "\n",
       "    .dataframe thead th {\n",
       "        text-align: right;\n",
       "    }\n",
       "</style>\n",
       "<table border=\"1\" class=\"dataframe\">\n",
       "  <thead>\n",
       "    <tr style=\"text-align: right;\">\n",
       "      <th></th>\n",
       "      <th>word</th>\n",
       "      <th>transcription</th>\n",
       "      <th>translation_x</th>\n",
       "      <th>translation_y</th>\n",
       "    </tr>\n",
       "  </thead>\n",
       "  <tbody>\n",
       "    <tr>\n",
       "      <th>0</th>\n",
       "      <td>American</td>\n",
       "      <td></td>\n",
       "      <td>американец</td>\n",
       "      <td></td>\n",
       "    </tr>\n",
       "    <tr>\n",
       "      <th>1</th>\n",
       "      <td>American</td>\n",
       "      <td></td>\n",
       "      <td>американский</td>\n",
       "      <td></td>\n",
       "    </tr>\n",
       "    <tr>\n",
       "      <th>2</th>\n",
       "      <td>April</td>\n",
       "      <td>ˈeɪprəl</td>\n",
       "      <td>апрель</td>\n",
       "      <td></td>\n",
       "    </tr>\n",
       "    <tr>\n",
       "      <th>3</th>\n",
       "      <td>August</td>\n",
       "      <td>ˈɔːɡəst</td>\n",
       "      <td>август</td>\n",
       "      <td></td>\n",
       "    </tr>\n",
       "    <tr>\n",
       "      <th>4</th>\n",
       "      <td>Christmas</td>\n",
       "      <td>ˈkrɪsməs</td>\n",
       "      <td>Рождество</td>\n",
       "      <td></td>\n",
       "    </tr>\n",
       "    <tr>\n",
       "      <th>...</th>\n",
       "      <td>...</td>\n",
       "      <td>...</td>\n",
       "      <td>...</td>\n",
       "      <td>...</td>\n",
       "    </tr>\n",
       "    <tr>\n",
       "      <th>1580</th>\n",
       "      <td>young</td>\n",
       "      <td>jʌŋ</td>\n",
       "      <td>молодой</td>\n",
       "      <td></td>\n",
       "    </tr>\n",
       "    <tr>\n",
       "      <th>1581</th>\n",
       "      <td>your</td>\n",
       "      <td></td>\n",
       "      <td>твой</td>\n",
       "      <td></td>\n",
       "    </tr>\n",
       "    <tr>\n",
       "      <th>1582</th>\n",
       "      <td>your/you</td>\n",
       "      <td>jɔː/juː</td>\n",
       "      <td>твой/ваш/тебе/вам</td>\n",
       "      <td></td>\n",
       "    </tr>\n",
       "    <tr>\n",
       "      <th>1583</th>\n",
       "      <td>yourself</td>\n",
       "      <td></td>\n",
       "      <td>тебя самого</td>\n",
       "      <td></td>\n",
       "    </tr>\n",
       "    <tr>\n",
       "      <th>1584</th>\n",
       "      <td>zero</td>\n",
       "      <td>ˈzɪrəʊ</td>\n",
       "      <td>ноль</td>\n",
       "      <td></td>\n",
       "    </tr>\n",
       "  </tbody>\n",
       "</table>\n",
       "<p>1585 rows × 4 columns</p>\n",
       "</div>"
      ],
      "text/plain": [
       "           word transcription      translation_x translation_y\n",
       "0      American                       американец              \n",
       "1      American                     американский              \n",
       "2         April       ˈeɪprəl             апрель              \n",
       "3        August       ˈɔːɡəst             август              \n",
       "4     Christmas      ˈkrɪsməs          Рождество              \n",
       "...         ...           ...                ...           ...\n",
       "1580      young           jʌŋ            молодой              \n",
       "1581       your                             твой              \n",
       "1582   your/you       jɔː/juː  твой/ваш/тебе/вам              \n",
       "1583   yourself                      тебя самого              \n",
       "1584       zero        ˈzɪrəʊ               ноль              \n",
       "\n",
       "[1585 rows x 4 columns]"
      ]
     },
     "execution_count": 86,
     "metadata": {},
     "output_type": "execute_result"
    }
   ],
   "source": [
    "merged = sky.merge(right=dom, how='outer', on='word').fillna('')\n",
    "index = merged.translation_x == ''\n",
    "merged.loc[index, 'translation_x'] = merged.loc[index, 'translation_y']\n",
    "merged.loc[index, 'translation_y'] = ''\n",
    "merged.loc[merged['translation_x'] == merged['translation_y'], 'translation_y'] = ''\n",
    "merged.loc[\n",
    "    merged.word.str.startswith('(the)'), 'word'\n",
    "] = merged.loc[\n",
    "    merged.word.str.startswith('(the)'), 'word'\n",
    "].str.removeprefix('(the) ')\n",
    "merged = merged.drop_duplicates().sort_values('word').reset_index(drop=True)\n",
    "merged"
   ]
  },
  {
   "cell_type": "code",
   "execution_count": 88,
   "id": "cadd003a",
   "metadata": {
    "ExecuteTime": {
     "end_time": "2022-08-26T14:57:40.461839Z",
     "start_time": "2022-08-26T14:57:40.422684Z"
    }
   },
   "outputs": [],
   "source": [
    "merged.to_csv('merged.csv', index=False)"
   ]
  }
 ],
 "metadata": {
  "kernelspec": {
   "display_name": "Python 3 (ipykernel)",
   "language": "python",
   "name": "python3"
  },
  "language_info": {
   "codemirror_mode": {
    "name": "ipython",
    "version": 3
   },
   "file_extension": ".py",
   "mimetype": "text/x-python",
   "name": "python",
   "nbconvert_exporter": "python",
   "pygments_lexer": "ipython3",
   "version": "3.9.9"
  },
  "toc": {
   "base_numbering": 1,
   "nav_menu": {},
   "number_sections": true,
   "sideBar": true,
   "skip_h1_title": true,
   "title_cell": "Table of Contents",
   "title_sidebar": "Contents",
   "toc_cell": false,
   "toc_position": {},
   "toc_section_display": true,
   "toc_window_display": false
  }
 },
 "nbformat": 4,
 "nbformat_minor": 5
}
